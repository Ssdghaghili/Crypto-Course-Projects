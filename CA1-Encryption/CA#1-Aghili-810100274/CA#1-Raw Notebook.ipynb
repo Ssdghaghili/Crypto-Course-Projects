{
 "cells": [
  {
   "cell_type": "markdown",
   "metadata": {},
   "source": [
    "# <center>CryptoCurrencies CA#1<center>\n",
    "<h1><center>Introduction to Cryptography<center></h1>\n",
    "\n",
    "#### <center>Mohammad Sadegh Aghili<center>\n",
    "#### <center>810100274<center>"
   ]
  },
  {
   "cell_type": "markdown",
   "metadata": {},
   "source": [
    "## StoryLine:\n",
    "We have TinTin and Haddock on two seperate islands and they want to send messages to each other using morse codes!!    \n",
    "\n",
    "However, there is a problem over there. Roberto Rastapopoulos (Their enemy!) is listening to their conversation to figure out what they are saying to each other!    \n",
    "\n",
    "Now TinTin wants to use some encryption and decryption to ensure that Roberto couldn't understand what they are saying. Help TinTin to acheive his goal!"
   ]
  },
  {
   "cell_type": "markdown",
   "metadata": {},
   "source": [
    "## Part 1: Symmetric Cryptography\n",
    "\n"
   ]
  },
  {
   "cell_type": "markdown",
   "metadata": {},
   "source": [
    "**Important Note**: In all steps, use **AES-128** encryption method for encryption/decryption. You can use python cryptography libraries for this purpose."
   ]
  },
  {
   "cell_type": "markdown",
   "metadata": {},
   "source": [
    "TinTin decided to design a symmetirc encryption scheme for his connection with haddock. He asked you to design it for him using these steps:"
   ]
  },
  {
   "cell_type": "code",
   "execution_count": 192,
   "metadata": {},
   "outputs": [],
   "source": [
    "import os\n",
    "import rsa\n",
    "import string\n",
    "import random\n",
    "from cryptography.fernet import Fernet\n",
    "from cryptography.hazmat.primitives import hashes\n",
    "from cryptography.exceptions import InvalidSignature\n",
    "from cryptography.hazmat.primitives import serialization\n",
    "from cryptography.hazmat.backends import default_backend\n",
    "from cryptography.hazmat.primitives.hashes import SHA256\n",
    "from cryptography.hazmat.primitives.asymmetric import padding"
   ]
  },
  {
   "cell_type": "code",
   "execution_count": 2,
   "metadata": {},
   "outputs": [],
   "source": [
    "def symmetric_encryptor(input_message: str, key: str) -> bytes:\n",
    "    fernet_key = Fernet(key)\n",
    "\n",
    "    cipher_text = fernet_key.encrypt(input_message.encode())\n",
    "\n",
    "    return cipher_text"
   ]
  },
  {
   "cell_type": "code",
   "execution_count": 16,
   "metadata": {},
   "outputs": [],
   "source": [
    "def symmetric_decryptor(input_ciphertext: str, key: bytes) -> str:\n",
    "    fernet_key = Fernet(key)\n",
    "\n",
    "    decrypted_message = fernet_key.decrypt(input_ciphertext.encode()).decode()\n",
    "\n",
    "    return decrypted_message"
   ]
  },
  {
   "cell_type": "code",
   "execution_count": 28,
   "metadata": {},
   "outputs": [],
   "source": [
    "def symmetric_verifier(plaintext:str, ciphertext:str, key:str):\n",
    "    if plaintext == ciphertext:\n",
    "        return True\n",
    "    else:\n",
    "        return False"
   ]
  },
  {
   "cell_type": "markdown",
   "metadata": {},
   "source": [
    "Now test your functions by encrypting & decrypting the ((confidential-message.txt)) file."
   ]
  },
  {
   "cell_type": "code",
   "execution_count": 5,
   "metadata": {},
   "outputs": [
    {
     "name": "stdout",
     "output_type": "stream",
     "text": [
      "Confidential message encrypted and saved as Encrypted-Message.txt\n"
     ]
    }
   ],
   "source": [
    "random_key = Fernet.generate_key()\n",
    "\n",
    "with open(\"Confidential-Message.txt\", \"r\") as file:\n",
    "    confidential_message = file.read()\n",
    "\n",
    "encrypted_message = symmetric_encryptor(confidential_message, random_key)\n",
    "\n",
    "with open(\"Encrypted-Message.txt\", \"wb\") as file:\n",
    "    file.write(encrypted_message)\n",
    "\n",
    "print(\"Confidential message encrypted and saved as Encrypted-Message.txt\")"
   ]
  },
  {
   "cell_type": "code",
   "execution_count": 19,
   "metadata": {},
   "outputs": [
    {
     "name": "stdout",
     "output_type": "stream",
     "text": [
      "Confidential message encrypted and saved as Decrypted-Message.txt\n"
     ]
    }
   ],
   "source": [
    "with open(\"Encrypted-Message.txt\", \"r\") as file:\n",
    "    Encrypted_message = file.read()\n",
    "\n",
    "decrypted_message = symmetric_decryptor(Encrypted_message, random_key)\n",
    "\n",
    "with open(\"Decrypted-Message.txt\", \"w\") as file:\n",
    "    file.write(decrypted_message)\n",
    "\n",
    "print(\"Confidential message encrypted and saved as Decrypted-Message.txt\")"
   ]
  },
  {
   "cell_type": "code",
   "execution_count": 29,
   "metadata": {},
   "outputs": [
    {
     "name": "stdout",
     "output_type": "stream",
     "text": [
      "The original message and the decrypted message are the same.\n"
     ]
    }
   ],
   "source": [
    "if symmetric_verifier(confidential_message, decrypted_message, random_key):\n",
    "    print(\"The original message and the decrypted message are the same.\")\n",
    "else:\n",
    "    print(\"The original message and the decrypted message are different.\")"
   ]
  },
  {
   "cell_type": "markdown",
   "metadata": {},
   "source": [
    "## Part 2: Asymmetric Cryptography"
   ]
  },
  {
   "cell_type": "markdown",
   "metadata": {},
   "source": [
    "After TinTin found how to use symmetric encryption using a key, he faced another problem! How to share a key with haddock without letting Roberto finds it?        "
   ]
  },
  {
   "cell_type": "markdown",
   "metadata": {},
   "source": [
    "Therefore, he decides to use an asymmetric crypto system.    \n",
    "help him to acheive his goal by writing a program which:"
   ]
  },
  {
   "cell_type": "code",
   "execution_count": 139,
   "metadata": {},
   "outputs": [],
   "source": [
    "def RSA_key_generator():\n",
    "    (pubkey, privkey) = rsa.newkeys(512, poolsize=8)\n",
    "    return privkey, pubkey"
   ]
  },
  {
   "cell_type": "code",
   "execution_count": 150,
   "metadata": {},
   "outputs": [],
   "source": [
    "def asymmetric_encryptor(public_key_str: str, input_message: str) -> bytes:\n",
    "\n",
    "    public_key = serialization.load_pem_public_key(public_key_str.encode(), backend=default_backend())\n",
    "\n",
    "    encrypted_message = public_key.encrypt(\n",
    "        input_message.encode(),\n",
    "        padding.OAEP(\n",
    "            mgf=padding.MGF1(algorithm=hashes.SHA256()),\n",
    "            algorithm=hashes.SHA256(),\n",
    "            label=None\n",
    "        )\n",
    "    )\n",
    "    return encrypted_message"
   ]
  },
  {
   "cell_type": "code",
   "execution_count": 135,
   "metadata": {},
   "outputs": [],
   "source": [
    "def asymmetric_decryptor(private_key_str: str, ciphertext: bytes) -> str:\n",
    "    \n",
    "    private_key = serialization.load_pem_private_key(private_key_str.encode(), password=None, backend=default_backend())\n",
    "\n",
    "    decrypted_message = private_key.decrypt(\n",
    "        ciphertext,\n",
    "        padding.OAEP(\n",
    "            mgf=padding.MGF1(algorithm=SHA256()),\n",
    "            algorithm=SHA256(),\n",
    "            label=None\n",
    "        )\n",
    "    ).decode()\n",
    "    return decrypted_message"
   ]
  },
  {
   "cell_type": "code",
   "execution_count": 136,
   "metadata": {},
   "outputs": [],
   "source": [
    "def asymmetric_verifier(plaintext:str, ciphertext:str, public_key:str):\n",
    "    if plaintext == ciphertext:\n",
    "        return True\n",
    "    else:\n",
    "        return False"
   ]
  },
  {
   "cell_type": "markdown",
   "metadata": {},
   "source": [
    "Now test your functions by encrypting & decrypting the ((confidential-message.txt)) file again using new asummetric functions."
   ]
  },
  {
   "cell_type": "code",
   "execution_count": 172,
   "metadata": {},
   "outputs": [
    {
     "name": "stdout",
     "output_type": "stream",
     "text": [
      "RSA key pair generated and saved as private_key.pem and public_key.pem\n"
     ]
    }
   ],
   "source": [
    "private_key, public_key = RSA_key_generator()\n",
    "\n",
    "# with open(\"private_key.pem\", \"rb\") as private_key_file:\n",
    "#     private_key_file.write(private_key)\n",
    "\n",
    "# with open(\"public_key.pem\", \"wb\") as public_key_file:\n",
    "#     public_key_file.write(public_key)\n",
    "\n",
    "print(\"RSA key pair generated and saved as private_key.pem and public_key.pem\")"
   ]
  },
  {
   "cell_type": "code",
   "execution_count": 169,
   "metadata": {},
   "outputs": [],
   "source": [
    "encoded_key = rsa.encrypt(random_key, public_key)\n",
    "decoded_key = rsa.decrypt(encoded_key, private_key)\n",
    "\n",
    "with open(\"encoded-key.txt\", \"wb\") as private_key_file:\n",
    "    private_key_file.write(encoded_key)\n",
    "\n",
    "with open(\"decoded-key.txt\", \"wb\") as public_key_file:\n",
    "    public_key_file.write(encoded_key)"
   ]
  },
  {
   "cell_type": "code",
   "execution_count": 166,
   "metadata": {},
   "outputs": [
    {
     "name": "stdout",
     "output_type": "stream",
     "text": [
      "The original message and the decrypted message are the same.\n"
     ]
    }
   ],
   "source": [
    "if symmetric_verifier(random_key, decoded_key, public_key):\n",
    "    print(\"The original message and the decrypted message are the same.\")\n",
    "else:\n",
    "    print(\"The original message and the decrypted message are different.\")"
   ]
  },
  {
   "cell_type": "markdown",
   "metadata": {},
   "source": [
    "## Part 3: Digital signature"
   ]
  },
  {
   "cell_type": "markdown",
   "metadata": {},
   "source": [
    "Write a function to sign a given message in the text file (Confidentail message) using private key which was made in the part 2.   \n",
    "You have to sign the hash of the message, not the whole message (why?). (Use SHA-256 for hashing)"
   ]
  },
  {
   "cell_type": "markdown",
   "metadata": {},
   "source": [
    "#### Signing the hash of the incoming message, rather than the entire message itself, is better way duo to: \n",
    "- <b>Efficiency:</b> Hash functions produce fixed-size outputs regardless of the size of the input data. Signing a hash is much faster than signing the entire message, especially for large messages.</br>\n",
    "- <b>Consistency:</b> Hash functions produce deterministic outputs for the same input, ensuring that the same message always generates the same hash value. This consistency is crucial for verifying the signature.</br>\n",
    "- <b>Security:</b> Cryptographic hash functions are designed to be collision-resistant, meaning it is computationally infeasible to find two different inputs that produce the same hash value. By signing the hash of the message, we ensure that any change to the message, no matter how small, will result in a completely different hash value. This provides integrity and ensures that the signed message cannot be modified without invalidating the signature."
   ]
  },
  {
   "cell_type": "code",
   "execution_count": 179,
   "metadata": {},
   "outputs": [],
   "source": [
    "def sign_message(private_key_str: str, input_message: str) -> bytes:\n",
    "    message = input_message.encode()\n",
    "    signature = rsa.sign(message, private_key, 'SHA-1')\n",
    "\n",
    "    return signature"
   ]
  },
  {
   "cell_type": "code",
   "execution_count": 187,
   "metadata": {},
   "outputs": [],
   "source": [
    "def message_verification(input_message: str, signature: bytes, public_key: str) -> bool:\n",
    "    message = input_message.encode()\n",
    "    if rsa.verify(message, signature, public_key):\n",
    "        return True\n",
    "    else:\n",
    "        return False"
   ]
  },
  {
   "cell_type": "code",
   "execution_count": 189,
   "metadata": {},
   "outputs": [
    {
     "name": "stdout",
     "output_type": "stream",
     "text": [
      "True\n"
     ]
    }
   ],
   "source": [
    "signature = sign_message(private_key, confidential_message)\n",
    "verifyer = message_verification(confidential_message, signature, public_key)\n",
    "print(verifyer)"
   ]
  },
  {
   "cell_type": "markdown",
   "metadata": {},
   "source": [
    "MAC (Message Authentication Code) and HMAC (Keyed-Hash Message Authentication Code) are cryptographic techniques used to ensure message integrity and authenticity in secure messaging.\n",
    "\n",
    "- **MAC**: Short piece of information generated using a hash function and a secret key to authenticate a message. Used in protocols like TLS.\n",
    "\n",
    "- **HMAC**: A specific type of MAC that incorporates a secret key into the calculation, providing stronger security guarantees.\n",
    "\n",
    "**Uses**:\n",
    "- Ensure message integrity and authenticity in secure messaging protocols like PGP and S/MIME.\n",
    "- Protect confidentiality and integrity of messages exchanged between users in secure messaging applications.\n",
    "- Detect and prevent message tampering, data corruption, and man-in-the-middle attacks."
   ]
  }
 ],
 "metadata": {
  "kernelspec": {
   "display_name": "Python 3",
   "language": "python",
   "name": "python3"
  },
  "language_info": {
   "codemirror_mode": {
    "name": "ipython",
    "version": 3
   },
   "file_extension": ".py",
   "mimetype": "text/x-python",
   "name": "python",
   "nbconvert_exporter": "python",
   "pygments_lexer": "ipython3",
   "version": "3.10.13"
  },
  "orig_nbformat": 4
 },
 "nbformat": 4,
 "nbformat_minor": 2
}
