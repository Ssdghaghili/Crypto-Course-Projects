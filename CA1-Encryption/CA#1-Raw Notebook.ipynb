{
 "cells": [
  {
   "cell_type": "markdown",
   "metadata": {},
   "source": [
    "# <center>CryptoCurrencies CA#1<center>\n",
    "<h1><center>Introduction to Cryptography<center></h1>\n",
    "\n",
    "#### <center>\"Name - Family name\"<center>"
   ]
  },
  {
   "cell_type": "markdown",
   "metadata": {},
   "source": [
    "## StoryLine:\n",
    "We have TinTin and Haddock on two seperate islands and they want to send messages to each other using morse codes!!    \n",
    "\n",
    "However, there is a problem over there. Roberto Rastapopoulos (Their enemy!) is listening to their conversation to figure out what they are saying to each other!    \n",
    "\n",
    "Now TinTin wants to use some encryption and decryption to ensure that Roberto couldn't understand what they are saying. Help TinTin to acheive his goal!"
   ]
  },
  {
   "cell_type": "markdown",
   "metadata": {},
   "source": [
    "## Part 1: Symmetric Cryptography\n",
    "\n"
   ]
  },
  {
   "cell_type": "markdown",
   "metadata": {},
   "source": [
    "**Important Note**: In all steps, use **AES-128** encryption method for encryption/decryption. You can use python cryptography libraries for this purpose."
   ]
  },
  {
   "cell_type": "markdown",
   "metadata": {},
   "source": [
    "TinTin decided to design a symmetirc encryption scheme for his connection with haddock. He asked you to design it for him using these steps:"
   ]
  },
  {
   "cell_type": "code",
   "execution_count": 54,
   "metadata": {},
   "outputs": [],
   "source": [
    "import os\n",
    "import string\n",
    "import random\n",
    "from cryptography.fernet import Fernet\n",
    "from cryptography.hazmat.primitives import hashes\n",
    "from cryptography.hazmat.primitives import serialization\n",
    "from cryptography.hazmat.backends import default_backend\n",
    "from cryptography.hazmat.primitives.asymmetric import rsa, padding"
   ]
  },
  {
   "cell_type": "code",
   "execution_count": 2,
   "metadata": {},
   "outputs": [],
   "source": [
    "def symmetric_encryptor(input_message: str, key: str) -> bytes:\n",
    "    fernet_key = Fernet(key)\n",
    "\n",
    "    cipher_text = fernet_key.encrypt(input_message.encode())\n",
    "\n",
    "    return cipher_text"
   ]
  },
  {
   "cell_type": "code",
   "execution_count": 16,
   "metadata": {},
   "outputs": [],
   "source": [
    "def symmetric_decryptor(input_ciphertext: str, key: bytes) -> str:\n",
    "    fernet_key = Fernet(key)\n",
    "\n",
    "    decrypted_message = fernet_key.decrypt(input_ciphertext.encode()).decode()\n",
    "\n",
    "    return decrypted_message"
   ]
  },
  {
   "cell_type": "code",
   "execution_count": 28,
   "metadata": {},
   "outputs": [],
   "source": [
    "def symmetric_verifier(plaintext:str, ciphertext:str, key:str):\n",
    "    if plaintext == ciphertext:\n",
    "        return True\n",
    "    else:\n",
    "        return False"
   ]
  },
  {
   "cell_type": "markdown",
   "metadata": {},
   "source": [
    "Now test your functions by encrypting & decrypting the ((confidential-message.txt)) file."
   ]
  },
  {
   "cell_type": "code",
   "execution_count": 5,
   "metadata": {},
   "outputs": [
    {
     "name": "stdout",
     "output_type": "stream",
     "text": [
      "Confidential message encrypted and saved as Encrypted-Message.txt\n"
     ]
    }
   ],
   "source": [
    "random_key = Fernet.generate_key()\n",
    "\n",
    "with open(\"Confidential-Message.txt\", \"r\") as file:\n",
    "    confidential_message = file.read()\n",
    "\n",
    "encrypted_message = symmetric_encryptor(confidential_message, random_key)\n",
    "\n",
    "with open(\"Encrypted-Message.txt\", \"wb\") as file:\n",
    "    file.write(encrypted_message)\n",
    "\n",
    "print(\"Confidential message encrypted and saved as Encrypted-Message.txt\")"
   ]
  },
  {
   "cell_type": "code",
   "execution_count": 19,
   "metadata": {},
   "outputs": [
    {
     "name": "stdout",
     "output_type": "stream",
     "text": [
      "Confidential message encrypted and saved as Decrypted-Message.txt\n"
     ]
    }
   ],
   "source": [
    "with open(\"Encrypted-Message.txt\", \"r\") as file:\n",
    "    Encrypted_message = file.read()\n",
    "\n",
    "decrypted_message = symmetric_decryptor(Encrypted_message, random_key)\n",
    "\n",
    "with open(\"Decrypted-Message.txt\", \"w\") as file:\n",
    "    file.write(decrypted_message)\n",
    "\n",
    "print(\"Confidential message encrypted and saved as Decrypted-Message.txt\")"
   ]
  },
  {
   "cell_type": "code",
   "execution_count": 29,
   "metadata": {},
   "outputs": [
    {
     "name": "stdout",
     "output_type": "stream",
     "text": [
      "The original message and the decrypted message are the same.\n"
     ]
    }
   ],
   "source": [
    "if symmetric_verifier(confidential_message, decrypted_message, random_key):\n",
    "    print(\"The original message and the decrypted message are the same.\")\n",
    "else:\n",
    "    print(\"The original message and the decrypted message are different.\")"
   ]
  },
  {
   "cell_type": "markdown",
   "metadata": {},
   "source": [
    "## Part 2: Asymmetric Cryptography"
   ]
  },
  {
   "cell_type": "markdown",
   "metadata": {},
   "source": [
    "After TinTin found how to use symmetric encryption using a key, he faced another problem! How to share a key with haddock without letting Roberto finds it?        "
   ]
  },
  {
   "cell_type": "markdown",
   "metadata": {},
   "source": [
    "Therefore, he decides to use an asymmetric crypto system.    \n",
    "help him to acheive his goal by writing a program which:"
   ]
  },
  {
   "cell_type": "code",
   "execution_count": 32,
   "metadata": {},
   "outputs": [],
   "source": [
    "def RSA_key_generator():\n",
    "\n",
    "    private_key = rsa.generate_private_key(\n",
    "        public_exponent=65537,  # Commonly used value for the public exponent\n",
    "        key_size=2048,          \n",
    "        backend=default_backend()\n",
    "    )\n",
    "\n",
    "    public_key = private_key.public_key()\n",
    "\n",
    "    private_key_pem = private_key.private_bytes(\n",
    "        encoding=serialization.Encoding.PEM,\n",
    "        format=serialization.PrivateFormat.PKCS8,\n",
    "        encryption_algorithm=serialization.NoEncryption()\n",
    "    )\n",
    "    public_key_pem = public_key.public_bytes(\n",
    "        encoding=serialization.Encoding.PEM,\n",
    "        format=serialization.PublicFormat.SubjectPublicKeyInfo\n",
    "    )\n",
    "\n",
    "    return private_key_pem, public_key_pem    "
   ]
  },
  {
   "cell_type": "code",
   "execution_count": 83,
   "metadata": {},
   "outputs": [],
   "source": [
    "from cryptography.hazmat.primitives.asymmetric import padding\n",
    "from cryptography.hazmat.primitives import serialization\n",
    "from cryptography.hazmat.primitives.hashes import SHA256\n",
    "from cryptography.hazmat.backends import default_backend"
   ]
  },
  {
   "cell_type": "code",
   "execution_count": 77,
   "metadata": {},
   "outputs": [],
   "source": [
    "def asymmetric_encryptor(public_key_str: str, input_message: str) -> bytes:\n",
    "    # Deserialize the public key from PEM format\n",
    "    public_key = serialization.load_pem_public_key(public_key_str.encode(), backend=default_backend())\n",
    "\n",
    "    # Encrypt the input message using the public key\n",
    "    encrypted_message = public_key.encrypt(\n",
    "        input_message.encode(),\n",
    "        padding.OAEP(\n",
    "            mgf=padding.MGF1(algorithm=serialization.Algorithm.SHA256),\n",
    "            algorithm=serialization.Algorithm.SHA256,\n",
    "            label=None\n",
    "        )\n",
    "    )\n",
    "\n",
    "    return encrypted_message"
   ]
  },
  {
   "cell_type": "code",
   "execution_count": 78,
   "metadata": {},
   "outputs": [],
   "source": [
    "def asymmetric_decryptor(private_key_str: str, ciphertext: bytes) -> str:\n",
    "    # Deserialize the private key from PEM format\n",
    "    private_key = serialization.load_pem_private_key(private_key_str.encode(), password=None, backend=default_backend())\n",
    "\n",
    "    # Decrypt the ciphertext using the private key\n",
    "    decrypted_message = private_key.decrypt(\n",
    "        ciphertext,\n",
    "        padding.OAEP(\n",
    "            mgf=padding.MGF1(algorithm=serialization.Algorithm.SHA256),\n",
    "            algorithm=serialization.Algorithm.SHA256,\n",
    "            label=None\n",
    "        )\n",
    "    ).decode()\n",
    "\n",
    "    return decrypted_message"
   ]
  },
  {
   "cell_type": "code",
   "execution_count": 79,
   "metadata": {},
   "outputs": [],
   "source": [
    "def symmetric_verifier(plaintext:str, ciphertext:str, public_key:str):\n",
    "    if plaintext == ciphertext:\n",
    "        return True\n",
    "    else:\n",
    "        return False"
   ]
  },
  {
   "cell_type": "markdown",
   "metadata": {},
   "source": [
    "Now test your functions by encrypting & decrypting the ((confidential-message.txt)) file again using new asummetric functions."
   ]
  },
  {
   "cell_type": "code",
   "execution_count": 80,
   "metadata": {},
   "outputs": [
    {
     "name": "stdout",
     "output_type": "stream",
     "text": [
      "RSA key pair generated and saved as private_key.pem and public_key.pem\n"
     ]
    }
   ],
   "source": [
    "private_key, public_key = RSA_key_generator()\n",
    "\n",
    "# Save the keys to files\n",
    "with open(\"private_key.pem\", \"wb\") as private_key_file:\n",
    "    private_key_file.write(private_key)\n",
    "\n",
    "with open(\"public_key.pem\", \"wb\") as public_key_file:\n",
    "    public_key_file.write(public_key)\n",
    "\n",
    "print(\"RSA key pair generated and saved as private_key.pem and public_key.pem\")\n"
   ]
  },
  {
   "cell_type": "code",
   "execution_count": 82,
   "metadata": {},
   "outputs": [
    {
     "ename": "AttributeError",
     "evalue": "module 'cryptography.hazmat.primitives.serialization' has no attribute 'Algorithm'",
     "output_type": "error",
     "traceback": [
      "\u001b[0;31m---------------------------------------------------------------------------\u001b[0m",
      "\u001b[0;31mAttributeError\u001b[0m                            Traceback (most recent call last)",
      "Cell \u001b[0;32mIn[82], line 9\u001b[0m\n\u001b[1;32m      6\u001b[0m     private_key \u001b[38;5;241m=\u001b[39m private_key_file\u001b[38;5;241m.\u001b[39mread()\n\u001b[1;32m      8\u001b[0m \u001b[38;5;66;03m# Encrypt the confidential message using the public key\u001b[39;00m\n\u001b[0;32m----> 9\u001b[0m locked_message \u001b[38;5;241m=\u001b[39m \u001b[43masymmetric_encryptor\u001b[49m\u001b[43m(\u001b[49m\u001b[43mpublic_key_str\u001b[49m\u001b[43m,\u001b[49m\u001b[43m \u001b[49m\u001b[43mconfidential_message\u001b[49m\u001b[43m)\u001b[49m\n\u001b[1;32m     10\u001b[0m unlcked_message \u001b[38;5;241m=\u001b[39m symmetric_decryptor(private_key, locked_message)\n",
      "Cell \u001b[0;32mIn[77], line 9\u001b[0m, in \u001b[0;36masymmetric_encryptor\u001b[0;34m(public_key_str, input_message)\u001b[0m\n\u001b[1;32m      3\u001b[0m public_key \u001b[38;5;241m=\u001b[39m serialization\u001b[38;5;241m.\u001b[39mload_pem_public_key(public_key_str\u001b[38;5;241m.\u001b[39mencode(), backend\u001b[38;5;241m=\u001b[39mdefault_backend())\n\u001b[1;32m      5\u001b[0m \u001b[38;5;66;03m# Encrypt the input message using the public key\u001b[39;00m\n\u001b[1;32m      6\u001b[0m encrypted_message \u001b[38;5;241m=\u001b[39m public_key\u001b[38;5;241m.\u001b[39mencrypt(\n\u001b[1;32m      7\u001b[0m     input_message\u001b[38;5;241m.\u001b[39mencode(),\n\u001b[1;32m      8\u001b[0m     padding\u001b[38;5;241m.\u001b[39mOAEP(\n\u001b[0;32m----> 9\u001b[0m         mgf\u001b[38;5;241m=\u001b[39mpadding\u001b[38;5;241m.\u001b[39mMGF1(algorithm\u001b[38;5;241m=\u001b[39m\u001b[43mserialization\u001b[49m\u001b[38;5;241;43m.\u001b[39;49m\u001b[43mAlgorithm\u001b[49m\u001b[38;5;241m.\u001b[39mSHA256),\n\u001b[1;32m     10\u001b[0m         algorithm\u001b[38;5;241m=\u001b[39mserialization\u001b[38;5;241m.\u001b[39mAlgorithm\u001b[38;5;241m.\u001b[39mSHA256,\n\u001b[1;32m     11\u001b[0m         label\u001b[38;5;241m=\u001b[39m\u001b[38;5;28;01mNone\u001b[39;00m\n\u001b[1;32m     12\u001b[0m     )\n\u001b[1;32m     13\u001b[0m )\n\u001b[1;32m     15\u001b[0m \u001b[38;5;28;01mreturn\u001b[39;00m encrypted_message\n",
      "\u001b[0;31mAttributeError\u001b[0m: module 'cryptography.hazmat.primitives.serialization' has no attribute 'Algorithm'"
     ]
    }
   ],
   "source": [
    "with open(\"public_key.pem\", \"r\") as public_key_file:\n",
    "    # public_key_str = public_key_file.read()\n",
    "    public_key = public_key_file.read()\n",
    "\n",
    "with open(\"private_key.pem\", \"r\") as private_key_file:\n",
    "    private_key = private_key_file.read()\n",
    "\n",
    "# Encrypt the confidential message using the public key\n",
    "locked_message = asymmetric_encryptor(public_key_str, confidential_message)\n",
    "unlcked_message = symmetric_decryptor(private_key, locked_message)\n"
   ]
  },
  {
   "cell_type": "code",
   "execution_count": 73,
   "metadata": {},
   "outputs": [
    {
     "name": "stdout",
     "output_type": "stream",
     "text": [
      "The original message and the decrypted message are different.\n"
     ]
    }
   ],
   "source": [
    "unlocked_message = 'jnjknkniun'\n",
    "if symmetric_verifier(confidential_message, unlocked_message, public_key_str):\n",
    "    print(\"The original message and the decrypted message are the same.\")\n",
    "else:\n",
    "    print(\"The original message and the decrypted message are different.\")"
   ]
  },
  {
   "cell_type": "markdown",
   "metadata": {},
   "source": [
    "## Part 3: Digital signature"
   ]
  },
  {
   "cell_type": "markdown",
   "metadata": {},
   "source": [
    "Write a function to sign a given message in the text file (Confidentail message) using private key which was made in the part 2.   \n",
    "You have to sign the hash of the message, not the whole message (why?). (Use SHA-256 for hashing)"
   ]
  },
  {
   "cell_type": "code",
   "execution_count": null,
   "metadata": {},
   "outputs": [],
   "source": [
    "def sign_message(private_key:str, input_message: str):\n",
    "    # Write a code to sign a message using your private key.\n",
    "    # CODE HERE:\n",
    "    \n",
    "    \n",
    "    \n",
    "    return message_signature"
   ]
  },
  {
   "cell_type": "code",
   "execution_count": null,
   "metadata": {},
   "outputs": [],
   "source": [
    "def message_verification(input_message:str, signature:str, public_key:str):\n",
    "    # Write a code to verify the signature of the input message\n",
    "    # output should be boolean(ture or false)\n"
   ]
  }
 ],
 "metadata": {
  "kernelspec": {
   "display_name": "Python 3",
   "language": "python",
   "name": "python3"
  },
  "language_info": {
   "codemirror_mode": {
    "name": "ipython",
    "version": 3
   },
   "file_extension": ".py",
   "mimetype": "text/x-python",
   "name": "python",
   "nbconvert_exporter": "python",
   "pygments_lexer": "ipython3",
   "version": "3.10.13"
  },
  "orig_nbformat": 4
 },
 "nbformat": 4,
 "nbformat_minor": 2
}
