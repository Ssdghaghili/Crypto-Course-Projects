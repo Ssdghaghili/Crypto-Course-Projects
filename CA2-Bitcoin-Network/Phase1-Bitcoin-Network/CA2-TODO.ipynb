{
 "cells": [
  {
   "cell_type": "markdown",
   "metadata": {},
   "source": [
    "# <center>CryptoCurrencies CA#2<center>\n",
    "<h1><center>Transacting on Bitcoin TestNet / Firing up an Ethereum Node<center></h1>\n",
    "\n",
    "#### <center>\"Mohammad Sadegh - Aghili\"<center>\n",
    "#### <center>\"810100274\"<center>"
   ]
  },
  {
   "cell_type": "markdown",
   "metadata": {},
   "source": [
    "### 1. Address Generation:"
   ]
  },
  {
   "cell_type": "markdown",
   "metadata": {},
   "source": [
    " 1.1: Base58 and WIF address"
   ]
  },
  {
   "cell_type": "code",
   "execution_count": 12,
   "metadata": {},
   "outputs": [],
   "source": [
    "# import sys\n",
    "\n",
    "# !{sys.executable} -m pip install python-bitcoinlib\n"
   ]
  },
  {
   "cell_type": "code",
   "execution_count": 14,
   "metadata": {},
   "outputs": [],
   "source": [
    "import os\n",
    "import hashlib\n",
    "import base58\n",
    "from ecdsa import SigningKey, SECP256k1"
   ]
  },
  {
   "cell_type": "code",
   "execution_count": 16,
   "metadata": {},
   "outputs": [
    {
     "name": "stdout",
     "output_type": "stream",
     "text": [
      "Private Key (hex): 50751d06767b025b396fa191cfeefbdc350336ba76cd24009fd24aff24d66a22\n",
      "Private Key (WIF): 92CMLkhwiSZ9abEVQZgScWySu9MK2cNC5qgzbjftXE3QekjgwXv\n",
      "Bitcoin Address (Testnet): mhs9rZ8XmdsjZzsUCjdbNaCzFa2ZrjB7pP\n"
     ]
    }
   ],
   "source": [
    "# Generate a random 256-bit private key\n",
    "private_key = os.urandom(32)\n",
    "private_key_hex = private_key.hex()\n",
    "print(f\"Private Key (hex): {private_key_hex}\")\n",
    "\n",
    "# Add version byte for Testnet (0xEF) and convert to WIF\n",
    "extended_key = b'\\xef' + private_key\n",
    "sha256_1 = hashlib.sha256(extended_key).digest()\n",
    "sha256_2 = hashlib.sha256(sha256_1).digest()\n",
    "checksum = sha256_2[:4]\n",
    "wif = base58.b58encode(extended_key + checksum)\n",
    "print(f\"Private Key (WIF): {wif.decode()}\")\n",
    "\n",
    "# Derive the public key\n",
    "sk = SigningKey.from_string(private_key, curve=SECP256k1)\n",
    "vk = sk.get_verifying_key()\n",
    "public_key = b'\\x04' + vk.to_string()\n",
    "\n",
    "# Generate the Bitcoin address (Testnet)\n",
    "sha256_bpk = hashlib.sha256(public_key).digest()\n",
    "ripemd160_bpk = hashlib.new('ripemd160', sha256_bpk).digest()\n",
    "extended_ripemd160 = b'\\x6f' + ripemd160_bpk\n",
    "sha256_erpk = hashlib.sha256(extended_ripemd160).digest()\n",
    "sha256_2_erpk = hashlib.sha256(sha256_erpk).digest()\n",
    "checksum = sha256_2_erpk[:4]\n",
    "binary_address = extended_ripemd160 + checksum\n",
    "address = base58.b58encode(binary_address)\n",
    "print(f\"Bitcoin Address (Testnet): {address.decode()}\")\n"
   ]
  },
  {
   "cell_type": "markdown",
   "metadata": {},
   "source": [
    "### Explanation of Testnet vs Mainnet Addresses\n",
    "* Testnet Addresses:\n",
    "    * They start with m or n for P2PKH (Pay to Public Key Hash) addresses.\n",
    "    * The version byte for WIF is 0xEF.\n",
    "    * The version byte for the Bitcoin address is 0x6F.\n",
    "* Mainnet Addresses:\n",
    "    * They start with 1 for P2PKH addresses.\n",
    "    * The version byte for WIF is 0x80.\n",
    "    * The version byte for the Bitcoin address is 0x00.\n"
   ]
  },
  {
   "cell_type": "markdown",
   "metadata": {},
   "source": [
    "1.2: Vanity Address Generator\n"
   ]
  },
  {
   "cell_type": "code",
   "execution_count": null,
   "metadata": {},
   "outputs": [],
   "source": [
    "def generate_private_key():\n",
    "    return os.urandom(32)\n",
    "\n",
    "def private_key_to_wif(private_key):\n",
    "    extended_key = b'\\xef' + private_key\n",
    "    sha256_1 = hashlib.sha256(extended_key).digest()\n",
    "    sha256_2 = hashlib.sha256(sha256_1).digest()\n",
    "    checksum = sha256_2[:4]\n",
    "    return base58.b58encode(extended_key + checksum)\n",
    "\n",
    "def private_key_to_public_key(private_key):\n",
    "    sk = SigningKey.from_string(private_key, curve=SECP256k1)\n",
    "    vk = sk.get_verifying_key()\n",
    "    return b'\\x04' + vk.to_string()\n",
    "\n",
    "def public_key_to_address(public_key):\n",
    "    sha256_bpk = hashlib.sha256(public_key).digest()\n",
    "    ripemd160_bpk = hashlib.new('ripemd160', sha256_bpk).digest()\n",
    "    extended_ripemd160 = b'\\x6f' + ripemd160_bpk\n",
    "    sha256_erpk = hashlib.sha256(extended_ripemd160).digest()\n",
    "    sha256_2_erpk = hashlib.sha256(sha256_erpk).digest()\n",
    "    checksum = sha256_2_erpk[:4]\n",
    "    binary_address = extended_ripemd160 + checksum\n",
    "    return base58.b58encode(binary_address)\n",
    "\n",
    "def find_vanity_address(prefix):\n",
    "    count = 0\n",
    "    while True:\n",
    "        private_key = generate_private_key()\n",
    "        public_key = private_key_to_public_key(private_key)\n",
    "        address = public_key_to_address(public_key)\n",
    "        if address.decode()[1:4] == prefix:\n",
    "            wif = private_key_to_wif(private_key)\n",
    "            return private_key.hex(), wif.decode(), address.decode()\n",
    "        count += 1\n",
    "        if count % 1000 == 0:\n",
    "            print(f\"Tried {count} keys...\")\n",
    "\n",
    "# Example usage: Find an address with the prefix 'qwe'\n",
    "desired_prefix = 'qwe'\n",
    "private_key_hex, wif, address = find_vanity_address(desired_prefix)\n",
    "print(f\"Private Key (hex): {private_key_hex}\")\n",
    "print(f\"Private Key (WIF): {wif}\")\n",
    "print(f\"Bitcoin Address (Testnet): {address}\")\n"
   ]
  },
  {
   "cell_type": "markdown",
   "metadata": {},
   "source": [
    "### 2. Transacting on Bitcoin TestNet:"
   ]
  },
  {
   "cell_type": "markdown",
   "metadata": {},
   "source": [
    "Here are some utility functions that you will need to use in order to make transactions. Fill the #TODO parts in the functions in order to be used in the next steps:"
   ]
  },
  {
   "cell_type": "markdown",
   "metadata": {},
   "source": [
    "#### Utility Functions:"
   ]
  },
  {
   "cell_type": "code",
   "execution_count": null,
   "metadata": {},
   "outputs": [],
   "source": [
    "import bitcoin.wallet\n",
    "from bitcoin.core import COIN, b2lx, serialize, x, lx, b2x\n",
    "from utils import *\n",
    "\n",
    "bitcoin.SelectParams(\"testnet\")  # Select the network (testnet or mainnet)\n",
    "# Private key in WIF format XXXXXXXXXXXXXXXXXXXXXXXXXXXXXXXXXXXXXXXXXXXXXXXXXXX\n",
    "my_private_key = bitcoin.wallet.CBitcoinSecret(\"92CMLkhwiSZ9abEVQZgScWySu9MK2cNC5qgzbjftXE3QekjgwXv\")\n",
    "my_public_key = my_private_key.pub\n",
    "my_address = bitcoin.wallet.P2PKHBitcoinAddress.from_pubkey(my_public_key)\n",
    "destination_address = bitcoin.wallet.CBitcoinAddress('mjSk1Ny9spzU2fouzYgLqGUD8U41iR35QN')  # Destination address (recipient of the money)\n",
    "\n",
    "\n",
    "def P2PKH_scriptPubKey(address):\n",
    "    ######################################################################\n",
    "    return [OP_DUP, OP_HASH160, Hash160(key), OP_EQUALVERIFY, OP_CHECKSIG]\n",
    "    ######################################################################\n",
    "\n",
    "\n",
    "def P2PKH_scriptSig(txin, txout, txin_scriptPubKey):\n",
    "    ######################################################################\n",
    "    ## Fill out the operations for P2PKH scriptSig                      ##\n",
    "    signature = create_OP_CHECKSIG_signature(txin, txout, txin_scriptPubKey, my_private_key)\n",
    "    return [signature, my_public_key]\n",
    "    ######################################################################\n",
    "\n",
    "\n",
    "def send_from_P2PKH_transaction(amount_to_send, txid_to_spend, utxo_index, txout_scriptPubKey):\n",
    "    txout = create_txout(amount_to_send, txout_scriptPubKey)\n",
    "\n",
    "    txin_scriptPubKey = P2PKH_scriptPubKey(my_address)\n",
    "    txin = create_txin(txid_to_spend, utxo_index)\n",
    "    txin_scriptSig = P2PKH_scriptSig(txin, txout, txin_scriptPubKey)\n",
    "\n",
    "    new_tx = create_signed_transaction(txin, txout, txin_scriptPubKey, txin_scriptSig)\n",
    "\n",
    "    return broadcast_transaction(new_tx)\n",
    "\n",
    "\n",
    "def run():\n",
    "    ######################################################################\n",
    "    amount_to_send = 0.1\n",
    "    txid_to_spend = ('XXXXXXXXXXXXXXXXXXXXXXXXXXXXXXXXXXXXXXXXXXXXXXXXXXXXXXXXXXXXXXXX')  # TxHash of UTXO\n",
    "    utxo_index = 0  # UTXO index among transaction outputs\n",
    "    ######################################################################\n",
    "\n",
    "    print(my_address)  # Prints your address in base58\n",
    "    print(my_public_key.hex())  # Print your public key in hex\n",
    "    print(my_private_key.hex())  # Print your private key in hex\n",
    "    txout_scriptPubKey = P2PKH_scriptPubKey(my_address)\n",
    "    response = send_from_P2PKH_transaction(amount_to_send, txid_to_spend, utxo_index, txout_scriptPubKey)\n",
    "    print(response.status_code, response.reason)\n",
    "    print(response.text)  # Report the hash of transaction which is printed in this section result\n"
   ]
  },
  {
   "cell_type": "code",
   "execution_count": 13,
   "metadata": {},
   "outputs": [],
   "source": [
    "import requests\n",
    "\n",
    "from bitcoin.core import b2x, lx, COIN, COutPoint, CMutableTxOut, CMutableTxIn, CMutableTransaction, Hash160\n",
    "from bitcoin.core.script import *\n",
    "from bitcoin.core.scripteval import VerifyScript, SCRIPT_VERIFY_P2SH\n",
    "\n",
    "\n",
    "def send_from_custom_transaction(amount_to_send, txid_to_spend, utxo_index, txin_scriptPubKey, txin_scriptSig, txout_scriptPubKey):\n",
    "    txout = create_txout(amount_to_send, txout_scriptPubKey)\n",
    "    txin = create_txin(txid_to_spend, utxo_index)\n",
    "    new_tx = create_signed_transaction(txin, txout, txin_scriptPubKey, txin_scriptSig)\n",
    "    return broadcast_transaction(new_tx)\n",
    "\n",
    "\n",
    "def create_txin(txid, utxo_index):\n",
    "    return CMutableTxIn(COutPoint(lx(txid), utxo_index))\n",
    "\n",
    "\n",
    "def create_txout(amount, scriptPubKey):\n",
    "    return CMutableTxOut(amount*COIN, CScript(scriptPubKey))\n",
    "\n",
    "\n",
    "def create_OP_CHECKSIG_signature(txin, txout, txin_scriptPubKey, seckey):\n",
    "    tx = CMutableTransaction([txin], [txout])\n",
    "    sighash = SignatureHash(CScript(txin_scriptPubKey), tx, 0, SIGHASH_ALL)\n",
    "    sig = seckey.sign(sighash) + bytes([SIGHASH_ALL])\n",
    "    return sig\n",
    "\n",
    "\n",
    "def create_signed_transaction(txin, txout, txin_scriptPubKey, txin_scriptSig):\n",
    "    tx = CMutableTransaction([txin], [txout])\n",
    "    txin.scriptSig = CScript(txin_scriptSig)\n",
    "    VerifyScript(txin.scriptSig, CScript(txin_scriptPubKey), tx, 0, (SCRIPT_VERIFY_P2SH,))\n",
    "    return tx\n",
    "\n",
    "\n",
    "def broadcast_transaction(tx):\n",
    "    raw_transaction = b2x(tx.serialize())\n",
    "    headers = {'content-type': 'application/x-www-form-urlencoded'}\n",
    "    return requests.post(\n",
    "        'https://api.blockcypher.com/v1/btc/test3/txs/push',\n",
    "        headers=headers,\n",
    "        data='{\"tx\": \"%s\"}' % raw_transaction,\n",
    "    )\n"
   ]
  },
  {
   "cell_type": "markdown",
   "metadata": {},
   "source": [
    "Now use the provided functions to make these transactions:"
   ]
  },
  {
   "cell_type": "markdown",
   "metadata": {},
   "source": [
    "2.1: One input and two outputs transaction"
   ]
  },
  {
   "cell_type": "code",
   "execution_count": null,
   "metadata": {},
   "outputs": [],
   "source": []
  },
  {
   "cell_type": "markdown",
   "metadata": {},
   "source": [
    "2.2: Pay to MultiSig transaction (P2MS)\n"
   ]
  },
  {
   "cell_type": "code",
   "execution_count": null,
   "metadata": {},
   "outputs": [],
   "source": []
  },
  {
   "cell_type": "markdown",
   "metadata": {},
   "source": [
    "2.3: Custom Transaction (BitCoin Scripting)\n"
   ]
  },
  {
   "cell_type": "code",
   "execution_count": null,
   "metadata": {},
   "outputs": [],
   "source": []
  }
 ],
 "metadata": {
  "kernelspec": {
   "display_name": "Python 3",
   "language": "python",
   "name": "python3"
  },
  "language_info": {
   "codemirror_mode": {
    "name": "ipython",
    "version": 3
   },
   "file_extension": ".py",
   "mimetype": "text/x-python",
   "name": "python",
   "nbconvert_exporter": "python",
   "pygments_lexer": "ipython3",
   "version": "3.10.13"
  }
 },
 "nbformat": 4,
 "nbformat_minor": 2
}
