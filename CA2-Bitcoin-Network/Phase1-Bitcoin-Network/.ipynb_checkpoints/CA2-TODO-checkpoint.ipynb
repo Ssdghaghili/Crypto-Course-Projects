{
 "cells": [
  {
   "cell_type": "markdown",
   "metadata": {},
   "source": [
    "# <center>CryptoCurrencies CA#2<center>\n",
    "<h1><center>Transacting on Bitcoin TestNet / Firing up an Ethereum Node<center></h1>\n",
    "\n",
    "#### <center>\"Mohammad Sadegh - Aghili\"<center>\n",
    "#### <center>\"810100274\"<center>"
   ]
  },
  {
   "cell_type": "markdown",
   "metadata": {},
   "source": [
    "### 1. Address Generation:"
   ]
  },
  {
   "cell_type": "markdown",
   "metadata": {},
   "source": [
    " 1.1: Base58 and WIF address"
   ]
  },
  {
   "cell_type": "code",
   "execution_count": 4,
   "metadata": {},
   "outputs": [],
   "source": [
    "import os\n",
    "import hashlib\n",
    "import base58\n",
    "import requests\n",
    "import bitcoin.wallet\n",
    "from ecdsa import SigningKey, SECP256k1\n",
    "from bitcoin.core import COIN, b2lx, serialize, x, lx, b2x\n",
    "from bitcoin.core.script import CScript, SignatureHash, SIGHASH_ALL, OP_CHECKSIG\n",
    "from bitcoin.core.scripteval import VerifyScript, SCRIPT_VERIFY_P2SH\n",
    "from bitcoin.wallet import P2PKHBitcoinAddress, CBitcoinAddress, CBitcoinSecret\n",
    "from bitcoin.core import b2x, lx, COIN, COutPoint, CMutableTxOut, CMutableTxIn, CMutableTransaction, Hash160\n",
    "from bitcoin.core.scripteval import VerifyScript, VerifyScriptError"
   ]
  },
  {
   "cell_type": "code",
   "execution_count": 5,
   "metadata": {},
   "outputs": [
    {
     "name": "stdout",
     "output_type": "stream",
     "text": [
      "Private Key (hex): 6bd8b860c9cef6bf0bbc293b3a1fcf2302011fcd191f0d07c064064866350789\n",
      "Private Key (WIF): 92QQxa4S3GA1gL7YKa8yBS6KSFSBaTLz6b7c1pY6iKn4KmroX2t\n",
      "Bitcoin Address (Testnet): mxENF2ideCSurAkMXWUjux3w9c5nRSbZDo\n"
     ]
    }
   ],
   "source": [
    "private_key = os.urandom(32)\n",
    "private_key_hex = private_key.hex()\n",
    "print(f\"Private Key (hex): {private_key_hex}\")\n",
    "\n",
    "extended_key = b'\\xef' + private_key\n",
    "sha256_1 = hashlib.sha256(extended_key).digest()\n",
    "sha256_2 = hashlib.sha256(sha256_1).digest()\n",
    "checksum = sha256_2[:4]\n",
    "wif = base58.b58encode(extended_key + checksum)\n",
    "print(f\"Private Key (WIF): {wif.decode()}\")\n",
    "\n",
    "sk = SigningKey.from_string(private_key, curve=SECP256k1)\n",
    "vk = sk.get_verifying_key()\n",
    "public_key = b'\\x04' + vk.to_string()\n",
    "\n",
    "sha256_bpk = hashlib.sha256(public_key).digest()\n",
    "ripemd160_bpk = hashlib.new('ripemd160', sha256_bpk).digest()\n",
    "extended_ripemd160 = b'\\x6f' + ripemd160_bpk\n",
    "sha256_erpk = hashlib.sha256(extended_ripemd160).digest()\n",
    "sha256_2_erpk = hashlib.sha256(sha256_erpk).digest()\n",
    "checksum = sha256_2_erpk[:4]\n",
    "binary_address = extended_ripemd160 + checksum\n",
    "address = base58.b58encode(binary_address)\n",
    "print(f\"Bitcoin Address (Testnet): {address.decode()}\")"
   ]
  },
  {
   "cell_type": "markdown",
   "metadata": {},
   "source": [
    "### Explanation of Testnet vs Mainnet Addresses\n",
    "* Testnet Addresses:\n",
    "    * They start with m or n for P2PKH (Pay to Public Key Hash) addresses.\n",
    "    * The version byte for WIF is 0xEF.\n",
    "    * The version byte for the Bitcoin address is 0x6F.\n",
    "* Mainnet Addresses:\n",
    "    * They start with 1 for P2PKH addresses.\n",
    "    * The version byte for WIF is 0x80.\n",
    "    * The version byte for the Bitcoin address is 0x00.\n"
   ]
  },
  {
   "cell_type": "markdown",
   "metadata": {},
   "source": [
    "1.2: Vanity Address Generator\n"
   ]
  },
  {
   "cell_type": "code",
   "execution_count": 6,
   "metadata": {},
   "outputs": [
    {
     "name": "stdout",
     "output_type": "stream",
     "text": [
      "Tried 1000 keys...\n",
      "Tried 2000 keys...\n",
      "Private Key (hex): 628d1cfc4f372ddd1cb109c3258db23ca62e60bd03735597bc2449298ea57533\n",
      "Private Key (WIF): 92LKXE4E9vUoDS4CYt8jrw7QKwWdJsXjWjRQkUa3RgzwBzhrhfh\n",
      "Bitcoin Address (Testnet): mqwe4k7c8vBJ98L9V3q11JtiJmFB8f4cV9\n"
     ]
    }
   ],
   "source": [
    "def generate_private_key():\n",
    "    return os.urandom(32)\n",
    "\n",
    "def private_key_to_wif(private_key):\n",
    "    extended_key = b'\\xef' + private_key\n",
    "    sha256_1 = hashlib.sha256(extended_key).digest()\n",
    "    sha256_2 = hashlib.sha256(sha256_1).digest()\n",
    "    checksum = sha256_2[:4]\n",
    "    return base58.b58encode(extended_key + checksum)\n",
    "\n",
    "def private_key_to_public_key(private_key):\n",
    "    sk = SigningKey.from_string(private_key, curve=SECP256k1)\n",
    "    vk = sk.get_verifying_key()\n",
    "    return b'\\x04' + vk.to_string()\n",
    "\n",
    "def public_key_to_address(public_key):\n",
    "    sha256_bpk = hashlib.sha256(public_key).digest()\n",
    "    ripemd160_bpk = hashlib.new('ripemd160', sha256_bpk).digest()\n",
    "    extended_ripemd160 = b'\\x6f' + ripemd160_bpk\n",
    "    sha256_erpk = hashlib.sha256(extended_ripemd160).digest()\n",
    "    sha256_2_erpk = hashlib.sha256(sha256_erpk).digest()\n",
    "    checksum = sha256_2_erpk[:4]\n",
    "    binary_address = extended_ripemd160 + checksum\n",
    "    return base58.b58encode(binary_address)\n",
    "\n",
    "def find_vanity_address(prefix):\n",
    "    count = 0\n",
    "    while True:\n",
    "        private_key = generate_private_key()\n",
    "        public_key = private_key_to_public_key(private_key)\n",
    "        address = public_key_to_address(public_key)\n",
    "        if address.decode()[1:4] == prefix:\n",
    "            wif = private_key_to_wif(private_key)\n",
    "            return private_key.hex(), wif.decode(), address.decode()\n",
    "        count += 1\n",
    "        if count % 1000 == 0:\n",
    "            print(f\"Tried {count} keys...\")\n",
    "\n",
    "desired_prefix = 'qwe'\n",
    "private_key_hex, wif, address = find_vanity_address(desired_prefix)\n",
    "print(f\"Private Key (hex): {private_key_hex}\")\n",
    "print(f\"Private Key (WIF): {wif}\")\n",
    "print(f\"Bitcoin Address (Testnet): {address}\")\n"
   ]
  },
  {
   "cell_type": "markdown",
   "metadata": {},
   "source": [
    "### 2. Transacting on Bitcoin TestNet:"
   ]
  },
  {
   "cell_type": "markdown",
   "metadata": {},
   "source": [
    "Here are some utility functions that you will need to use in order to make transactions. Fill the #TODO parts in the functions in order to be used in the next steps:"
   ]
  },
  {
   "cell_type": "markdown",
   "metadata": {},
   "source": [
    "#### Utility Functions:"
   ]
  },
  {
   "cell_type": "code",
   "execution_count": null,
   "metadata": {},
   "outputs": [],
   "source": [
    "import bitcoin.wallet\n",
    "from bitcoin.core import COIN, b2lx, serialize, x, lx, b2x\n",
    "from utils import *\n",
    "\n",
    "bitcoin.SelectParams(\"testnet\")  # Select the network (testnet or mainnet)\n",
    "my_private_key = bitcoin.wallet.CBitcoinSecret(\"926fwxQ6979Bg6Hj5LjswWz6sCEFjyPtPpQZq2AAaCysLS4ijUV\")\n",
    "my_public_key = my_private_key.pub\n",
    "my_address = bitcoin.wallet.P2PKHBitcoinAddress.from_pubkey(my_public_key)\n",
    "destination_address = bitcoin.wallet.CBitcoinAddress('mjbmGAeWuvaMsFmzkyZYsM7BrpNaV8jbaY')  # Destination address (recipient of the money)\n",
    "\n",
    "\n",
    "def P2PKH_scriptPubKey(address):\n",
    "    return [OP_DUP, OP_HASH160, Hash160(key), OP_EQUALVERIFY, OP_CHECKSIG]\n",
    "    \n",
    "\n",
    "\n",
    "def P2PKH_scriptSig(txin, txout, txin_scriptPubKey):\n",
    "    signature = create_OP_CHECKSIG_signature(txin, txout, txin_scriptPubKey, my_private_key)\n",
    "    return [signature, my_public_key]\n",
    "\n",
    "\n",
    "def send_from_P2PKH_transaction(amount_to_send, txid_to_spend, utxo_index, txout_scriptPubKey):\n",
    "    txout = create_txout(amount_to_send, txout_scriptPubKey)\n",
    "\n",
    "    txin_scriptPubKey = P2PKH_scriptPubKey(my_address)\n",
    "    txin = create_txin(txid_to_spend, utxo_index)\n",
    "    txin_scriptSig = P2PKH_scriptSig(txin, txout, txin_scriptPubKey)\n",
    "\n",
    "    new_tx = create_signed_transaction(txin, txout, txin_scriptPubKey, txin_scriptSig)\n",
    "\n",
    "    return broadcast_transaction(new_tx)\n",
    "\n",
    "\n",
    "def run():\n",
    "    amount_to_send = 0.1\n",
    "    txid_to_spend = ('XXXXXXXXXXXXXXXXXXXXXXXXXXXXXXXXXXXXXXXXXXXXXXXXXXXXXXXXXXXXXXXX')  # TxHash of UTXO\n",
    "    utxo_index = 0  # UTXO index among transaction outputs\n",
    "\n",
    "    print(my_address)  # Prints your address in base58\n",
    "    print(my_public_key.hex())  # Print your public key in hex\n",
    "    print(my_private_key.hex())  # Print your private key in hex\n",
    "    txout_scriptPubKey = P2PKH_scriptPubKey(my_address)\n",
    "    response = send_from_P2PKH_transaction(amount_to_send, txid_to_spend, utxo_index, txout_scriptPubKey)\n",
    "    print(response.status_code, response.reason)\n",
    "    print(response.text)"
   ]
  },
  {
   "cell_type": "code",
   "execution_count": 5,
   "metadata": {},
   "outputs": [],
   "source": [
    "from bitcoin.core.script import (\n",
    "    OP_DUP, OP_HASH160, OP_EQUALVERIFY, OP_CHECKSIG,\n",
    "    OP_RETURN, OP_TRUE, OP_CODESEPARATOR, OP_CHECKMULTISIG , OP_EQUAL , OP_SWAP , OP_BOOLOR , OP_VERIFY , OP_ADD , OP_10 , OP_8 , OP_GREATERTHAN\n",
    ")\n",
    "# Initialize Bitcoin parameters for testnet\n",
    "bitcoin.SelectParams(\"testnet\")\n",
    "\n",
    "# Private key in WIF format\n",
    "my_private_key = bitcoin.wallet.CBitcoinSecret(\"926fwxQ6979Bg6Hj5LjswWz6sCEFjyPtPpQZq2AAaCysLS4ijUV\")\n",
    "my_public_key = my_private_key.pub\n",
    "my_address = bitcoin.wallet.P2PKHBitcoinAddress.from_pubkey(my_public_key)\n",
    "destination_address = bitcoin.wallet.CBitcoinAddress('mqwe4k7c8vBJ98L9V3q11JtiJmFB8f4cV9')  # Destination address\n",
    "\n",
    "def P2PKH_scriptPubKey(address):\n",
    "    scriptPubKey = [OP_DUP, OP_HASH160, Hash160(address), OP_EQUALVERIFY, OP_CHECKSIG]\n",
    "    return CScript(scriptPubKey)\n",
    "\n",
    "def P2PKH_scriptSig(txin, txout, txin_scriptPubKey):\n",
    "    signature = create_OP_CHECKSIG_signature(txin, txout, txin_scriptPubKey, my_private_key)\n",
    "    scriptSig = [signature, my_public_key]\n",
    "    return scriptSig\n",
    "\n",
    "def send_from_P2PKH_transaction(amount_to_send, txid_to_spend, utxo_index, txout_scriptPubKeys):\n",
    "    txouts = [create_txout(amount_to_send, spk) for spk in txout_scriptPubKeys]\n",
    "    txin_scriptPubKey = P2PKH_scriptPubKey(my_public_key)\n",
    "    txin = create_txin(txid_to_spend, utxo_index)\n",
    "    txin_scriptSig = P2PKH_scriptSig(txin, txouts, txin_scriptPubKey)\n",
    "    new_tx = create_signed_transaction(txin, txouts, txin_scriptPubKey, txin_scriptSig)\n",
    "    return broadcast_transaction(new_tx)\n",
    "\n",
    "\n",
    "def send_from_custom_transaction(amount_to_send, txid_to_spend, utxo_index, txin_scriptPubKey, txin_scriptSig, txout_scriptPubKeys):\n",
    "    txouts = [create_txout(amount_to_send, spk) for spk in txout_scriptPubKeys]\n",
    "    txin = create_txin(txid_to_spend, utxo_index)\n",
    "    new_tx = create_signed_transaction(txin, txouts, txin_scriptPubKey, txin_scriptSig)\n",
    "    return broadcast_transaction(new_tx)\n",
    "\n",
    "def create_txin(txid, utxo_index):\n",
    "    return CMutableTxIn(COutPoint(lx(txid), utxo_index))\n",
    "\n",
    "def create_txout(amount, scriptPubKey):\n",
    "    return CMutableTxOut(amount * COIN, CScript(scriptPubKey))\n",
    "\n",
    "def create_OP_CHECKSIG_signature(txin, txouts, txin_scriptPubKey, seckey):\n",
    "    tx = CMutableTransaction([txin], txouts)\n",
    "    sighash = SignatureHash(CScript(txin_scriptPubKey), tx, 0, SIGHASH_ALL)\n",
    "    sig = seckey.sign(sighash) + bytes([SIGHASH_ALL])\n",
    "    return sig\n",
    "\n",
    "def create_signed_transaction(txin, txouts, txin_scriptPubKey, txin_scriptSig):\n",
    "    tx = CMutableTransaction([txin], txouts)\n",
    "    txin.scriptSig = CScript(txin_scriptSig)\n",
    "    VerifyScript(txin.scriptSig, CScript(txin_scriptPubKey), tx, 0, (SCRIPT_VERIFY_P2SH,))\n",
    "\n",
    "    try:\n",
    "        VerifyScript(txin.scriptSig, txin_scriptPubKey, tx, 0, (SCRIPT_VERIFY_P2SH,))\n",
    "        print(\"Script verified successfully.\")\n",
    "    except VerifyScriptError as e:\n",
    "        print(\"Script verification failed:\", e)\n",
    "        return\n",
    "    except Exception as e:\n",
    "        print(\"Unexpected error during script verification:\", e)\n",
    "        return\n",
    "    \n",
    "    return tx\n",
    "\n",
    "def broadcast_transaction(tx):\n",
    "    raw_transaction = b2x(tx.serialize())\n",
    "    headers = {'content-type': 'application/x-www-form-urlencoded'}\n",
    "    return requests.post(\n",
    "        'https://api.blockcypher.com/v1/btc/test3/txs/push',\n",
    "        headers=headers,\n",
    "        data='{\"tx\": \"%s\"}' % raw_transaction,\n",
    "    )"
   ]
  },
  {
   "cell_type": "markdown",
   "metadata": {},
   "source": [
    "### Part 2.1"
   ]
  },
  {
   "cell_type": "code",
   "execution_count": 6,
   "metadata": {},
   "outputs": [
    {
     "name": "stdout",
     "output_type": "stream",
     "text": [
      "Script verified successfully.\n",
      "First Transaction Response Status Code: 201, Reason: Created\n",
      "First Transaction Response Text: {\n",
      "  \"tx\": {\n",
      "    \"block_height\": -1,\n",
      "    \"block_index\": -1,\n",
      "    \"hash\": \"2be0bafccb9e689afd74793c10d0f62b4b880eef5d7622eb043da9126d456bad\",\n",
      "    \"addresses\": [\n",
      "      \"mxENF2ideCSurAkMXWUjux3w9c5nRSbZDo\"\n",
      "    ],\n",
      "    \"total\": 10000,\n",
      "    \"fees\": 9214,\n",
      "    \"size\": 210,\n",
      "    \"vsize\": 210,\n",
      "    \"preference\": \"low\",\n",
      "    \"relayed_by\": \"185.221.132.251\",\n",
      "    \"received\": \"2024-06-01T07:16:09.163613231Z\",\n",
      "    \"ver\": 1,\n",
      "    \"double_spend\": false,\n",
      "    \"vin_sz\": 1,\n",
      "    \"vout_sz\": 2,\n",
      "    \"confirmations\": 0,\n",
      "    \"inputs\": [\n",
      "      {\n",
      "        \"prev_hash\": \"c9304cdf0af041879c95b83a9fa852eab35762acb9fd99a1f7f94215e8d84aee\",\n",
      "        \"output_index\": 1,\n",
      "        \"script\": \"483045022100ba74653523c2adc55bfcf2cfc7e8dab2953d5dd49d09aa5cc25429ca62b4f97e02203902388f4fc797673b861f0e973cb3e8a8a022a1cd78d89e9cf0a8b01a9e3551014104ffb4756113fd21c199ede69093c204ba3ad44aa2c56a235bd476a2c3a572935709c7942b618fc4337e71fa1e51a0d8af36bf7318f37198d79b68fcffd7ae6b9f\",\n",
      "        \"output_value\": 19214,\n",
      "        \"sequence\": 4294967295,\n",
      "        \"addresses\": [\n",
      "          \"mxENF2ideCSurAkMXWUjux3w9c5nRSbZDo\"\n",
      "        ],\n",
      "        \"script_type\": \"pay-to-pubkey-hash\",\n",
      "        \"age\": 2818043\n",
      "      }\n",
      "    ],\n",
      "    \"outputs\": [\n",
      "      {\n",
      "        \"value\": 5000,\n",
      "        \"script\": \"6a\",\n",
      "        \"addresses\": null,\n",
      "        \"script_type\": \"null-data\"\n",
      "      },\n",
      "      {\n",
      "        \"value\": 5000,\n",
      "        \"script\": \"51\",\n",
      "        \"addresses\": null,\n",
      "        \"script_type\": \"unknown\"\n",
      "      }\n",
      "    ]\n",
      "  }\n",
      "}\n"
     ]
    }
   ],
   "source": [
    "txid_to_spend = 'c9304cdf0af041879c95b83a9fa852eab35762acb9fd99a1f7f94215e8d84aee'\n",
    "utxo_index = 1 \n",
    "\n",
    "unspendable_scriptPubKey = [OP_RETURN]\n",
    "spendable_scriptPubKey = [OP_TRUE]\n",
    "\n",
    "first_tx_outs = [\n",
    "    unspendable_scriptPubKey,\n",
    "    spendable_scriptPubKey\n",
    "]\n",
    "\n",
    "response = send_from_P2PKH_transaction(0.00005, txid_to_spend, utxo_index, first_tx_outs)\n",
    "    \n",
    "print(f\"First Transaction Response Status Code: {response.status_code}, Reason: {response.reason}\")\n",
    "print(f\"First Transaction Response Text: {response.text}\")\n"
   ]
  },
  {
   "cell_type": "markdown",
   "metadata": {},
   "source": [
    "-------------------------------------------------------------------------------------------------------------"
   ]
  },
  {
   "cell_type": "markdown",
   "metadata": {},
   "source": [
    "### Part 2.3"
   ]
  },
  {
   "cell_type": "markdown",
   "metadata": {},
   "source": [
    "Now use the provided functions to make these transactions:"
   ]
  },
  {
   "cell_type": "code",
   "execution_count": 19,
   "metadata": {},
   "outputs": [
    {
     "name": "stdout",
     "output_type": "stream",
     "text": [
      "Private Key (hex): 26969bad086b80392db8d0b91e91b7ca34306afcf2f9ff3b5562410498470572\n",
      "Private Key (WIF): 91surFCmLgAP4d7DedWheQeDcL5ffkU7frCyqrLAhW7XM5iK2o9\n",
      "Bitcoin Address (Testnet): mnFp15eCgf2R6wowMbxrKfjUmvRpu66Drc\n"
     ]
    }
   ],
   "source": [
    "import os\n",
    "import hashlib\n",
    "import base58\n",
    "from ecdsa import SigningKey, SECP256k1\n",
    "\n",
    "def generate_private_key():\n",
    "    return os.urandom(32)\n",
    "\n",
    "def private_key_to_wif(private_key):\n",
    "    extended_key = b'\\xef' + private_key\n",
    "    sha256_1 = hashlib.sha256(extended_key).digest()\n",
    "    sha256_2 = hashlib.sha256(sha256_1).digest()\n",
    "    checksum = sha256_2[:4]\n",
    "    return base58.b58encode(extended_key + checksum)\n",
    "\n",
    "def private_key_to_public_key(private_key):\n",
    "    sk = SigningKey.from_string(private_key, curve=SECP256k1)\n",
    "    vk = sk.get_verifying_key()\n",
    "    return b'\\x04' + vk.to_string()\n",
    "\n",
    "def public_key_to_address(public_key):\n",
    "    sha256_bpk = hashlib.sha256(public_key).digest()\n",
    "    ripemd160_bpk = hashlib.new('ripemd160', sha256_bpk).digest()\n",
    "    extended_ripemd160 = b'\\x6f' + ripemd160_bpk\n",
    "    sha256_erpk = hashlib.sha256(extended_ripemd160).digest()\n",
    "    sha256_2_erpk = hashlib.sha256(sha256_erpk).digest()\n",
    "    checksum = sha256_2_erpk[:4]\n",
    "    binary_address = extended_ripemd160 + checksum\n",
    "    return base58.b58encode(binary_address)\n",
    "\n",
    "private_key = generate_private_key()\n",
    "wif = private_key_to_wif(private_key)\n",
    "public_key = private_key_to_public_key(private_key)\n",
    "address = public_key_to_address(public_key)\n",
    "\n",
    "print(f\"Private Key (hex): {private_key.hex()}\")\n",
    "print(f\"Private Key (WIF): {wif.decode()}\")\n",
    "print(f\"Bitcoin Address (Testnet): {address.decode()}\")"
   ]
  },
  {
   "cell_type": "code",
   "execution_count": 23,
   "metadata": {},
   "outputs": [
    {
     "name": "stdout",
     "output_type": "stream",
     "text": [
      "Script verified successfully.\n",
      "First Transaction Response Status Code: 400, Reason: Bad Request\n",
      "First Transaction Response Text: {\"error\": \"Error validating transaction: Error running script for input 0 referencing f37b1961fb16c9bdeb56a4c88677688f946b186819c674156a3b7610bb92a03e at 0: Script was NOT verified successfully..\"}\n"
     ]
    }
   ],
   "source": [
    "import hashlib\n",
    "\n",
    "def hash160(data: str) -> bytes:\n",
    "    data_bytes = data.encode('utf-8')  # Encode the string to bytes\n",
    "    sha256_hash = hashlib.sha256(data_bytes).digest()\n",
    "    ripemd160_hash = hashlib.new('ripemd160', sha256_hash).digest()\n",
    "    return ripemd160_hash\n",
    "\n",
    "\n",
    "txid_to_spend = 'f37b1961fb16c9bdeb56a4c88677688f946b186819c674156a3b7610bb92a03e'\n",
    "utxo_index = 0\n",
    "\n",
    "bob_address_bytes = base58.b58decode_check('mjbmGAeWuvaMsFmzkyZYsM7BrpNaV8jbaY')[1:]\n",
    "\n",
    "scriptPubKey_of_transaction = [OP_8,OP_10,OP_ADD,OP_GREATERTHAN,OP_SWAP,OP_HASH160,hash160('hello world'),OP_EQUAL,OP_BOOLOR,OP_VERIFY,OP_DUP, OP_HASH160, bob_address_bytes , OP_EQUALVERIFY,OP_CHECKSIG]\n",
    "\n",
    "response = send_from_P2PKH_transaction(0.00008, txid_to_spend, utxo_index, [scriptPubKey_of_transaction])\n",
    "    \n",
    "print(f\"First Transaction Response Status Code: {response.status_code}, Reason: {response.reason}\")\n",
    "print(f\"First Transaction Response Text: {response.text}\")\n"
   ]
  },
  {
   "cell_type": "code",
   "execution_count": 21,
   "metadata": {},
   "outputs": [
    {
     "name": "stdout",
     "output_type": "stream",
     "text": [
      "Script verified successfully.\n",
      "First Transaction Response Status Code: 201, Reason: Created\n",
      "First Transaction Response Text: {\n",
      "  \"tx\": {\n",
      "    \"block_height\": -1,\n",
      "    \"block_index\": -1,\n",
      "    \"hash\": \"0fedc3a67dcae5d4b10841768cd53050054534de3d2e35c405c811a1b8a41d7e\",\n",
      "    \"addresses\": [\n",
      "      \"mizEqtKDpvfB8gpjLwbWgzvogxHR1QxgTJ\"\n",
      "    ],\n",
      "    \"total\": 8000,\n",
      "    \"fees\": 8084,\n",
      "    \"size\": 254,\n",
      "    \"vsize\": 254,\n",
      "    \"preference\": \"low\",\n",
      "    \"relayed_by\": \"79.127.227.12\",\n",
      "    \"received\": \"2024-05-30T18:54:25.422454149Z\",\n",
      "    \"ver\": 1,\n",
      "    \"double_spend\": false,\n",
      "    \"vin_sz\": 1,\n",
      "    \"vout_sz\": 1,\n",
      "    \"confirmations\": 0,\n",
      "    \"inputs\": [\n",
      "      {\n",
      "        \"prev_hash\": \"d8757c73dde7b4e454812220fe18ce3a7c5340561bef33de2e873e6af79b6973\",\n",
      "        \"output_index\": 0,\n",
      "        \"script\": \"48304502210080bf890eb0b95b0a4ccd81607ca47288dc9bc2a0563dd658eb081bfa9d0b4cf7022075d01a28d4c9eb44067c3db3ddc7ec363095aac2c20ca70692a92366a950c87201410494930f15b8e71f217ab6ed7c0a7276ca81fdc7180dd0dd8eef8bfb9fb27d02e987a62e9ebcdf863ca46ed3eaaf82c02ab8a071c3c4909a1a9f900ead04d59592\",\n",
      "        \"output_value\": 16084,\n",
      "        \"sequence\": 4294967295,\n",
      "        \"addresses\": [\n",
      "          \"mizEqtKDpvfB8gpjLwbWgzvogxHR1QxgTJ\"\n",
      "        ],\n",
      "        \"script_type\": \"pay-to-pubkey-hash\",\n",
      "        \"age\": 2818882\n",
      "      }\n",
      "    ],\n",
      "    \"outputs\": [\n",
      "      {\n",
      "        \"value\": 8000,\n",
      "        \"script\": \"585a93877ca914d7d5ee7824ff93f94c3055af9382c86c68b5ca92879b6976a9142cc95f9a67be0f42b3fcf5a81b97ed5ac242946f88ac\",\n",
      "        \"addresses\": null,\n",
      "        \"script_type\": \"unknown\"\n",
      "      }\n",
      "    ]\n",
      "  }\n",
      "}\n"
     ]
    }
   ],
   "source": [
    "import hashlib\n",
    "\n",
    "def hash160(data: str) -> bytes:\n",
    "    data_bytes = data.encode('utf-8')  # Encode the string to bytes\n",
    "    sha256_hash = hashlib.sha256(data_bytes).digest()\n",
    "    ripemd160_hash = hashlib.new('ripemd160', sha256_hash).digest()\n",
    "    return ripemd160_hash\n",
    "\n",
    "\n",
    "txid_to_spend = 'f37b1961fb16c9bdeb56a4c88677688f946b186819c674156a3b7610bb92a03e'\n",
    "utxo_index = 0\n",
    "\n",
    "bob_address_bytes = base58.b58decode_check('mjbmGAeWuvaMsFmzkyZYsM7BrpNaV8jbaY')[1:]\n",
    "\n",
    "scriptPubKey_of_transaction = [OP_8,OP_10,OP_ADD,OP_GREATERTHAN,OP_SWAP,OP_HASH160,hash160('hello world'),OP_EQUAL,OP_BOOLOR,OP_VERIFY,OP_DUP, OP_HASH160, bob_address_bytes , OP_EQUALVERIFY,OP_CHECKSIG]\n",
    "\n",
    "response = send_from_P2PKH_transaction(0.00008, txid_to_spend, utxo_index, [scriptPubKey_of_transaction])\n",
    "    \n",
    "print(f\"First Transaction Response Status Code: {response.status_code}, Reason: {response.reason}\")\n",
    "print(f\"First Transaction Response Text: {response.text}\")"
   ]
  },
  {
   "cell_type": "markdown",
   "metadata": {},
   "source": [
    "The Proof of Burn (PoB) consensus algorithm involves \"burning\" coins, meaning that users send coins to an address where they become unspendable, effectively removing them from circulation. This process can stabilize the value of a cryptocurrency network in several ways:\n",
    "1. Reducing Supply: By decreasing the total supply of the cryptocurrency, the scarcity of the remaining coins increases. This can lead to a rise in the coin's value, assuming demand remains constant or increases.<br>\n",
    "2. Incentivizing Long-term Holding: Participants who burn their coins demonstrate a commitment to the network, reducing short-term trading and speculation. This can lead to more stable prices.<br>\n",
    "3. Inflation Control: Burning coins can counteract inflation by reducing the rate at which new coins enter the market, helping to maintain or increase the value of the cryptocurrency over time.<br>\n"
   ]
  },
  {
   "cell_type": "markdown",
   "metadata": {},
   "source": [
    "The Bitcoin scripting language, known as Bitcoin Script, is not Turing complete. It is intentionally limited in its capabilities to ensure security and predictability.<br>\n",
    "<br><b>Benefits of Using a Turing Complete Language:</b>\n",
    "1. Flexibility: Turing complete languages can perform a wide range of computational tasks, enabling complex smart contracts and decentralized applications.\n",
    "2. Programmability: Developers can write intricate logic and algorithms, allowing for advanced functionalities and automation within the blockchain.\n",
    "3. Versatility: Such languages support loops, conditionals, and other constructs necessary for sophisticated programming, offering more powerful and varied use cases.\n",
    "\n",
    "<br>However, these benefits come with increased risks, such as security vulnerabilities and unpredictable behavior, which is why Bitcoin Script opts for a non-Turing complete design.\n"
   ]
  }
 ],
 "metadata": {
  "kernelspec": {
   "display_name": "Python 3",
   "language": "python",
   "name": "python3"
  },
  "language_info": {
   "codemirror_mode": {
    "name": "ipython",
    "version": 3
   },
   "file_extension": ".py",
   "mimetype": "text/x-python",
   "name": "python",
   "nbconvert_exporter": "python",
   "pygments_lexer": "ipython3",
   "version": "3.10.13"
  }
 },
 "nbformat": 4,
 "nbformat_minor": 2
}
